{
 "cells": [
  {
   "cell_type": "code",
   "execution_count": null,
   "id": "c29a7234-834f-4c12-9233-c9bec9303974",
   "metadata": {},
   "outputs": [],
   "source": [
    "import pandas as pd\n",
    "from pycaret.classification import predict_model, load_model\n",
    "\n",
    "\n",
    "def load_data(filepath):\n",
    "    \"\"\"\n",
    "    Loads churn data into a DataFrame from a string filepath.\n",
    "    \"\"\"\n",
    "    df = pd.read_csv(filepath, index_col='customerID')\n",
    "    return df\n",
    "\n",
    "\n",
    "def make_predictions(df, threshold=0.7):\n",
    "    model = load_model('gbc')\n",
    "    predictions = predict_model(model, data= df)\n",
    "    \n",
    "    predictions.rename({'prediction_label':'predicted_churn'}, axis=1, inplace = True)\n",
    "    predictions['predicted_churn']=(predictions['prediction_score']>=threshold)\n",
    "    predictions['predicted_churn'].replace({False:1,True:0}, inplace = True)\n",
    "    return predictions['predicted_churn']\n",
    "\n",
    "\n",
    "\n",
    "if __name__== \"__main__\":\n",
    "    df = load_data(r\"new_churn_data.csv\")\n",
    "    predictions = make_predictions(df)\n",
    "    print('predictions:')\n",
    "    print(predictions)"
   ]
  }
 ],
 "metadata": {
  "kernelspec": {
   "display_name": "Python 3 (ipykernel)",
   "language": "python",
   "name": "python3"
  },
  "language_info": {
   "codemirror_mode": {
    "name": "ipython",
    "version": 3
   },
   "file_extension": ".py",
   "mimetype": "text/x-python",
   "name": "python",
   "nbconvert_exporter": "python",
   "pygments_lexer": "ipython3",
   "version": "3.10.14"
  }
 },
 "nbformat": 4,
 "nbformat_minor": 5
}
